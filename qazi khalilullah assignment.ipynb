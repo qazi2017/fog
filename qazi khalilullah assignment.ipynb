{
 "cells": [
  {
   "cell_type": "markdown",
   "metadata": {},
   "source": [
    "## 1. Calculate Area of a Circle"
   ]
  },
  {
   "cell_type": "markdown",
   "metadata": {},
   "source": [
    "#### Write a Python program which accepts the radius of a circle from the user and compute the area.\n",
    "###### Program Console Sample Output 1:\n",
    "###### Input Radius: 0.5\n",
    "###### Area of Circle with radius 0.5 is 0.7853981634"
   ]
  },
  {
   "cell_type": "code",
   "execution_count": 1,
   "metadata": {},
   "outputs": [
    {
     "name": "stdout",
     "output_type": "stream",
     "text": [
      "enter the rdius of a circle:0.5\n",
      "area of circle with radius 0.5 is 0.7855.\n"
     ]
    }
   ],
   "source": [
    "radius=float(input('enter the rdius of a circle:'))\n",
    "area =3.142*(radius*radius)\n",
    "print(f'area of circle with radius {radius} is {area}.')\n",
    "\n"
   ]
  },
  {
   "cell_type": "code",
   "execution_count": null,
   "metadata": {},
   "outputs": [],
   "source": []
  },
  {
   "cell_type": "code",
   "execution_count": null,
   "metadata": {},
   "outputs": [],
   "source": []
  },
  {
   "cell_type": "markdown",
   "metadata": {},
   "source": [
    "## 2. Check Number either positive, negative or zero"
   ]
  },
  {
   "cell_type": "markdown",
   "metadata": {},
   "source": [
    "#### Write a Python program to check if a number is positive, negative or zero\n",
    "###### Program Console Sample Output 1:\n",
    "###### Enter Number: -1\n",
    "##### Negative Number Entered\n",
    "###### Program Console Sample Output 2:\n",
    "##### Integer: 3\n",
    "##### Positive Number Entered\n",
    "###### Program Console Sample Output 3:\n",
    "##### Integer: 0\n",
    "###### Zero Entered"
   ]
  },
  {
   "cell_type": "code",
   "execution_count": 2,
   "metadata": {},
   "outputs": [
    {
     "name": "stdout",
     "output_type": "stream",
     "text": [
      "enter integer number:-1\n",
      "the integer is negative\n"
     ]
    }
   ],
   "source": [
    "num=int(input('enter integer number:'))\n",
    "\n",
    "if num>0:\n",
    "    print(\"the integer is positive\")\n",
    "elif num<0:\n",
    "    print(\"the integer is negative\")\n",
    "elif num==0:\n",
    "    print(\"the integer is zero\")\n",
    "    "
   ]
  },
  {
   "cell_type": "code",
   "execution_count": 3,
   "metadata": {},
   "outputs": [
    {
     "name": "stdout",
     "output_type": "stream",
     "text": [
      "enter integer number:3\n",
      "the integer is positive\n"
     ]
    }
   ],
   "source": [
    "num=int(input('enter integer number:'))\n",
    "\n",
    "if num>0:\n",
    "    print(\"the integer is positive\")\n",
    "elif num<0:\n",
    "    print(\"the integer is negative\")\n",
    "elif num==0:\n",
    "    print(\"the integer is zero\")\n",
    "    "
   ]
  },
  {
   "cell_type": "code",
   "execution_count": 4,
   "metadata": {},
   "outputs": [
    {
     "name": "stdout",
     "output_type": "stream",
     "text": [
      "enter integer number:0\n",
      "the integer is zero\n"
     ]
    }
   ],
   "source": [
    "num=int(input('enter integer number:'))\n",
    "\n",
    "if num>0:\n",
    "    print(\"the integer is positive\")\n",
    "elif num<0:\n",
    "    print(\"the integer is negative\")\n",
    "elif num==0:\n",
    "    print(\"the integer is zero\")\n",
    "    "
   ]
  },
  {
   "cell_type": "code",
   "execution_count": null,
   "metadata": {},
   "outputs": [],
   "source": []
  },
  {
   "cell_type": "markdown",
   "metadata": {},
   "source": [
    "## 3. Divisibility Check of two numbers"
   ]
  },
  {
   "cell_type": "markdown",
   "metadata": {},
   "source": [
    "#### Write a Python program to check whether a number is completely divisible by another number. Accept two integer values form the user\n",
    "##### Program Console Sample Output 1:\n",
    "###### Enter numerator: 4\n",
    "###### Enter Denominator: 2\n",
    "##### Number 4 is Completely divisible by 2\n",
    "###### Program Console Sample Output 2:\n",
    "##### Enter numerator: 7\n",
    "\n",
    "##### Enter Denominator: 4\n",
    "###### Number 7 is not Completely divisible by 4"
   ]
  },
  {
   "cell_type": "code",
   "execution_count": 5,
   "metadata": {},
   "outputs": [
    {
     "name": "stdout",
     "output_type": "stream",
     "text": [
      "enter numertor:4\n",
      "enter denominator:2\n",
      "number4 is completely divisible by 2\n"
     ]
    }
   ],
   "source": [
    "numerator = int(input(\"enter numertor:\"))\n",
    "denominator = int(input(\"enter denominator:\"))\n",
    "\n",
    "if numerator%denominator==0:\n",
    "    print(f\"number{numerator} is completely divisible by {denominator}\")\n",
    "else:\n",
    "    print(f\"number {numerator} is not compeletely divisible by {denominator}\")\n"
   ]
  },
  {
   "cell_type": "code",
   "execution_count": 6,
   "metadata": {},
   "outputs": [
    {
     "name": "stdout",
     "output_type": "stream",
     "text": [
      "enter numertor:7\n",
      "enter denominator:4\n",
      "number 7 is not compeletely divisible by 4\n"
     ]
    }
   ],
   "source": [
    "numerator = int(input(\"enter numertor:\"))\n",
    "denominator = int(input(\"enter denominator:\"))\n",
    "\n",
    "if numerator%denominator==0:\n",
    "    print(f\"number{numerator} is completely divisible by {denominator}\")\n",
    "else:\n",
    "    print(f\"number {numerator} is not compeletely divisible by {denominator}\")\n"
   ]
  },
  {
   "cell_type": "code",
   "execution_count": null,
   "metadata": {},
   "outputs": [],
   "source": []
  },
  {
   "cell_type": "code",
   "execution_count": null,
   "metadata": {},
   "outputs": [],
   "source": []
  },
  {
   "cell_type": "code",
   "execution_count": null,
   "metadata": {},
   "outputs": [],
   "source": []
  },
  {
   "cell_type": "code",
   "execution_count": null,
   "metadata": {},
   "outputs": [],
   "source": []
  },
  {
   "cell_type": "code",
   "execution_count": null,
   "metadata": {},
   "outputs": [],
   "source": []
  },
  {
   "cell_type": "markdown",
   "metadata": {},
   "source": [
    "## 4. Calculate Volume of a sphere"
   ]
  },
  {
   "cell_type": "markdown",
   "metadata": {},
   "source": [
    "##### Write a Python program to get the volume of a sphere, please take the radius as input from user"
   ]
  },
  {
   "cell_type": "markdown",
   "metadata": {},
   "source": [
    "##### Program Console Output:\n",
    "##### Enter Radius of Sphere: 1\n",
    "###### Volume of the Sphere with Radius 1 is 4.18"
   ]
  },
  {
   "cell_type": "code",
   "execution_count": 7,
   "metadata": {},
   "outputs": [
    {
     "name": "stdout",
     "output_type": "stream",
     "text": [
      "Enter the radius of a sphere1\n",
      "volume of the sphere with radius 1.0 is 4.189333333333333\n"
     ]
    }
   ],
   "source": [
    "radius=float(input(\"Enter the radius of a sphere\"))\n",
    "volume =(4/3)*3.142*radius**3\n",
    "print(f'volume of the sphere with radius {radius} is {volume}')"
   ]
  },
  {
   "cell_type": "code",
   "execution_count": null,
   "metadata": {},
   "outputs": [],
   "source": []
  },
  {
   "cell_type": "code",
   "execution_count": null,
   "metadata": {},
   "outputs": [],
   "source": []
  },
  {
   "cell_type": "code",
   "execution_count": null,
   "metadata": {},
   "outputs": [],
   "source": []
  },
  {
   "cell_type": "code",
   "execution_count": null,
   "metadata": {},
   "outputs": [],
   "source": []
  },
  {
   "cell_type": "markdown",
   "metadata": {},
   "source": [
    "## 5. Copy string n times\n",
    "#### Write a Python program to get a string which is n (non-negative integer) copies of a given string.\n",
    "##### Program Console Output:\n",
    "##### Enter String: Hi\n",
    "###### How many copies of String you need: 4\n",
    "###### 4 Copies of Hi are HiHiHiHi"
   ]
  },
  {
   "cell_type": "code",
   "execution_count": 8,
   "metadata": {},
   "outputs": [
    {
     "name": "stdout",
     "output_type": "stream",
     "text": [
      "Enter string:Hi\n",
      "How any copies of string you need:4\n",
      "4 copies of Hi are HiHiHiHi\n"
     ]
    }
   ],
   "source": [
    "string =str(input(\"Enter string:\"))\n",
    "num = int(input(\"How any copies of string you need:\"))\n",
    "print(f\"{num} copies of {string} are\",string*num)\n",
    "\n"
   ]
  },
  {
   "cell_type": "code",
   "execution_count": null,
   "metadata": {},
   "outputs": [],
   "source": []
  },
  {
   "cell_type": "code",
   "execution_count": null,
   "metadata": {},
   "outputs": [],
   "source": []
  },
  {
   "cell_type": "markdown",
   "metadata": {},
   "source": [
    "## 6. Check if number is Even or Odd\n",
    "### Write a Python program to find whether a given number (accept from the user) is even or odd, print out an appropriate message to the user\n",
    "#### Program Console Output 1:\n",
    "##### Enter Number: 4\n",
    "###### 4 is Even\n",
    "#### Program Console Output 2:\n",
    "##### Enter Number: 9\n",
    "###### 9 is Odd"
   ]
  },
  {
   "cell_type": "code",
   "execution_count": 9,
   "metadata": {},
   "outputs": [
    {
     "name": "stdout",
     "output_type": "stream",
     "text": [
      "Enter any number:4\n",
      "4.0 is Even\n"
     ]
    }
   ],
   "source": [
    "number =float(input(\"Enter any number:\"))\n",
    "if number%2==0:\n",
    "    print(f\"{number} is Even\")\n",
    "else:\n",
    "    print(f\"{number} is odd\")\n"
   ]
  },
  {
   "cell_type": "code",
   "execution_count": 10,
   "metadata": {},
   "outputs": [
    {
     "name": "stdout",
     "output_type": "stream",
     "text": [
      "Enter any number:9\n",
      "9.0 is odd\n"
     ]
    }
   ],
   "source": [
    "number =float(input(\"Enter any number:\"))\n",
    "if number%2==0:\n",
    "    print(f\"{number} is Even\")\n",
    "else:\n",
    "    print(f\"{number} is odd\")\n"
   ]
  },
  {
   "cell_type": "code",
   "execution_count": null,
   "metadata": {},
   "outputs": [],
   "source": []
  },
  {
   "cell_type": "code",
   "execution_count": null,
   "metadata": {},
   "outputs": [],
   "source": []
  },
  {
   "cell_type": "markdown",
   "metadata": {},
   "source": [
    "## 7. Vowel Tester\n",
    "### Write a Python program to test whether a passed letter is a vowel or not\n",
    "#### Program Console Output 1:\n",
    "##### Enter a character: A\n",
    "###### Letter A is Vowel\n",
    "#### Program Console Output 2:\n",
    "##### Enter a character: e\n",
    "###### Letter e is Vowel\n",
    "#### Program Console Output 2:\n",
    "##### Enter a character: N\n",
    "###### Letter N is not Vowel"
   ]
  },
  {
   "cell_type": "code",
   "execution_count": 11,
   "metadata": {},
   "outputs": [
    {
     "name": "stdout",
     "output_type": "stream",
     "text": [
      "Enter a letter:A\n",
      "Letter A is Vowel.\n"
     ]
    }
   ],
   "source": [
    "L=str(input(\"Enter a letter:\"))\n",
    "if L=='A' or L=='E' or L=='I' or L=='O' or L=='U' or L=='a' or L=='e' or L=='i' or L=='o' or L=='u':\n",
    "    print(f\"Letter {L} is Vowel.\")\n",
    "else:\n",
    "    print(f\"Letter {L} is not Vowel.\")"
   ]
  },
  {
   "cell_type": "code",
   "execution_count": 12,
   "metadata": {},
   "outputs": [
    {
     "name": "stdout",
     "output_type": "stream",
     "text": [
      "Enter a letter:e\n",
      "Letter e is Vowel.\n"
     ]
    }
   ],
   "source": [
    "L=str(input(\"Enter a letter:\"))\n",
    "if L=='A' or L=='E' or L=='I' or L=='O' or L=='U' or L=='a' or L=='e' or L=='i' or L=='o' or L=='u':\n",
    "    print(f\"Letter {L} is Vowel.\")\n",
    "else:\n",
    "    print(f\"Letter {L} is not Vowel.\")"
   ]
  },
  {
   "cell_type": "code",
   "execution_count": 13,
   "metadata": {
    "scrolled": true
   },
   "outputs": [
    {
     "name": "stdout",
     "output_type": "stream",
     "text": [
      "Enter a letter:N\n",
      "Letter N is not Vowel.\n"
     ]
    }
   ],
   "source": [
    "\n",
    "L=str(input(\"Enter a letter:\"))\n",
    "if L=='A' or L=='E' or L=='I' or L=='O' or L=='U' or L=='a' or L=='e' or L=='i' or L=='o' or L=='u':\n",
    "    print(f\"Letter {L} is Vowel.\")\n",
    "else:\n",
    "    print(f\"Letter {L} is not Vowel.\")"
   ]
  },
  {
   "cell_type": "code",
   "execution_count": null,
   "metadata": {},
   "outputs": [],
   "source": []
  },
  {
   "cell_type": "markdown",
   "metadata": {},
   "source": [
    "# 8. Triangle area\n",
    "###### Write a Python program that will accept the base and height of a triangle and compute the area\n",
    "###### Reference:\n",
    "##### SIMPLE MATHEMATICAL CONCEPTS"
   ]
  },
  {
   "cell_type": "code",
   "execution_count": 14,
   "metadata": {},
   "outputs": [
    {
     "name": "stdout",
     "output_type": "stream",
     "text": [
      "enter base of triangle:2\n",
      "enter height of triangle:32\n",
      "area of triangle is 32.0\n"
     ]
    }
   ],
   "source": [
    "base =float(input(\"enter base of triangle:\"))\n",
    "height =float(input(\"enter height of triangle:\"))\n",
    "area = (height*base)/2\n",
    "area =round(area,2)\n",
    "print(f\"area of triangle is {area}\")"
   ]
  },
  {
   "cell_type": "code",
   "execution_count": null,
   "metadata": {},
   "outputs": [],
   "source": []
  },
  {
   "cell_type": "markdown",
   "metadata": {},
   "source": [
    "## 9. Calculate Interest\n",
    "### Write a Python program to compute the future value of a specified principal amount, rate of interest, and a number of years\n",
    "#### Program Console Sample 1:\n",
    "##### Please enter principal amount: 10000\n",
    "###### Please Enter Rate of interest in %: 0.1\n",
    "###### Enter number of years for investment: 5\n",
    "###### After 5 years your principal amount 10000 over an interest rate of 0.1 % will be 16105.1"
   ]
  },
  {
   "cell_type": "code",
   "execution_count": 15,
   "metadata": {},
   "outputs": [
    {
     "name": "stdout",
     "output_type": "stream",
     "text": [
      "please enter principal amount10000\n",
      "please Enter Rate of Interest0.1\n",
      "enter number of years for investment5\n",
      "after 5 years your principal amount 10000 over an interst rate 0.1% will be  16105.100000000006\n"
     ]
    }
   ],
   "source": [
    "pm=int(input(\"please enter principal amount\"))\n",
    "I =float(input(\"please Enter Rate of Interest\"))\n",
    "n =int(input(\"enter number of years for investment\"))\n",
    "FV =pm*(1+I)**n\n",
    "print(f\"after {n} years your principal amount {pm} over an interst rate {I}% will be \",FV)"
   ]
  },
  {
   "cell_type": "code",
   "execution_count": null,
   "metadata": {},
   "outputs": [],
   "source": []
  },
  {
   "cell_type": "code",
   "execution_count": null,
   "metadata": {},
   "outputs": [],
   "source": []
  },
  {
   "cell_type": "markdown",
   "metadata": {},
   "source": [
    "## 10. Euclidean distance\n",
    "### write a Python program to compute the distance between the points (x1, y1) and (x2, y2).\n",
    "#### Program Console Sample 1:\n",
    "###### Enter Co-ordinate for x1: 2\n",
    "###### Enter Co-ordinate for x2: 4\n",
    "###### Enter Co-ordinate for y1: 4\n",
    "###### Enter Co-ordinate for y2: 4\n",
    "###### Distance between points (2, 4) and (4, 4) is 2"
   ]
  },
  {
   "cell_type": "markdown",
   "metadata": {},
   "source": [
    "###### Reference:\n",
    "https://en.wikipedia.org/wiki/Euclidean_distance"
   ]
  },
  {
   "cell_type": "code",
   "execution_count": 16,
   "metadata": {},
   "outputs": [
    {
     "name": "stdout",
     "output_type": "stream",
     "text": [
      "enter value of x12\n",
      "enter value of x24\n",
      "enter value of y14\n",
      "enter value of y24\n",
      "Distance between points(2.0,4.0)and(4.0,4.0)is 2.0\n"
     ]
    }
   ],
   "source": [
    "x1 =float(input(\"enter value of x1\"))\n",
    "x2=float(input(\"enter value of x2\"))\n",
    "y1=float(input(\"enter value of y1\"))\n",
    "y2=float(input(\"enter value of y2\"))\n",
    "distance=((x2-x1)**2+(y2-y1)**2)**0.5\n",
    "print(\"Distance between points(\"+str(x1)+\",\"+str(x2)+\")and(\"+str(y1)+\",\"+str(y2)+\")is\",distance )"
   ]
  },
  {
   "cell_type": "code",
   "execution_count": null,
   "metadata": {},
   "outputs": [],
   "source": []
  },
  {
   "cell_type": "code",
   "execution_count": null,
   "metadata": {},
   "outputs": [],
   "source": []
  },
  {
   "cell_type": "code",
   "execution_count": null,
   "metadata": {},
   "outputs": [],
   "source": []
  },
  {
   "cell_type": "markdown",
   "metadata": {},
   "source": [
    "## 11. Feet to Centimeter Converter\n",
    "### Write a Python program to convert height in feet to centimetres.\n",
    "##### Program Console Sample 1:\n",
    "###### Enter Height in Feet: 5\n",
    "###### There are 152.4 Cm in 5 ft\n",
    "###### Reference:\n",
    "https://www.rapidtables.com/convert/length/feet-to-cm.html"
   ]
  },
  {
   "cell_type": "code",
   "execution_count": 17,
   "metadata": {},
   "outputs": [
    {
     "name": "stdout",
     "output_type": "stream",
     "text": [
      "Enter Height in feet:5\n",
      "there are 152.4cm in 5.0ft\n"
     ]
    }
   ],
   "source": [
    "height_in_feet=float(input(\"Enter Height in feet:\"))\n",
    "height_in_cm =height_in_feet*30.48\n",
    "print(f\"there are {height_in_cm}cm in {height_in_feet}ft\")"
   ]
  },
  {
   "cell_type": "code",
   "execution_count": null,
   "metadata": {},
   "outputs": [],
   "source": []
  },
  {
   "cell_type": "code",
   "execution_count": null,
   "metadata": {},
   "outputs": [],
   "source": []
  },
  {
   "cell_type": "markdown",
   "metadata": {},
   "source": [
    "## 12. BMI Calculator\n",
    "### Write a Python program to calculate body mass index\n",
    "##### Program Console Sample 1:\n",
    "###### Enter Height in Cm: 180\n",
    "###### Enter Weight in Kg: 75\n",
    "###### Your BMI is 23.15"
   ]
  },
  {
   "cell_type": "code",
   "execution_count": 18,
   "metadata": {},
   "outputs": [
    {
     "name": "stdout",
     "output_type": "stream",
     "text": [
      "Enter height in Centimeter:180\n",
      "Enter Weight in Kilogram:75\n",
      "Your BMI is 23.148148148148145\n"
     ]
    }
   ],
   "source": [
    "CM =float(input(\"Enter height in Centimeter:\"))\n",
    "KG =float(input(\"Enter Weight in Kilogram:\"))\n",
    "M =CM*0.01\n",
    "BMI =KG/M**2\n",
    "print(f\"Your BMI is {BMI}\")"
   ]
  },
  {
   "cell_type": "code",
   "execution_count": null,
   "metadata": {},
   "outputs": [],
   "source": []
  },
  {
   "cell_type": "code",
   "execution_count": null,
   "metadata": {},
   "outputs": [],
   "source": []
  },
  {
   "cell_type": "markdown",
   "metadata": {},
   "source": [
    "## 13. Sum of n Positive Integers\n",
    "### Write a python program to sum of the first n positive integers\n",
    "#### Program Console Sample 1:\n",
    "###### Enter value of n: 5\n",
    "###### Sum of n Positive integers till 5 is 15"
   ]
  },
  {
   "cell_type": "code",
   "execution_count": 19,
   "metadata": {},
   "outputs": [
    {
     "name": "stdout",
     "output_type": "stream",
     "text": [
      "Enter value of n:5\n",
      "Sum of n positive integers till 5 is 15.\n"
     ]
    }
   ],
   "source": [
    "sum=0\n",
    "num=int(input(\"Enter value of n:\"))\n",
    "for i in range(num+1):\n",
    "    sum+=i\n",
    "print(f'Sum of n positive integers till {num} is {sum}.')\n",
    "    \n"
   ]
  },
  {
   "cell_type": "code",
   "execution_count": null,
   "metadata": {},
   "outputs": [],
   "source": []
  },
  {
   "cell_type": "code",
   "execution_count": null,
   "metadata": {},
   "outputs": [],
   "source": []
  },
  {
   "cell_type": "markdown",
   "metadata": {},
   "source": [
    "## 14. Digits Sum of a Number\n",
    "### Write a Python program to calculate the sum of the digits in an integer\n",
    "#### Program Console Sample 1:\n",
    "##### Enter a number: 15\n",
    "###### Sum of 1 + 5 is 6\n",
    "#### Program Console Sample 2:\n",
    "##### Enter a number: 1234\n",
    "###### Sum of 1 + 2 + 3 + 4 is 10"
   ]
  },
  {
   "cell_type": "code",
   "execution_count": 5,
   "metadata": {},
   "outputs": [
    {
     "name": "stdout",
     "output_type": "stream",
     "text": [
      "Enter an integer value:15\n",
      "Sum of digits is 6\n"
     ]
    }
   ],
   "source": [
    "n=input(\"Enter an integer value:\")\n",
    "total=0\n",
    "for i in n:\n",
    "    total+=int(i)\n",
    "print(\"Sum of digits is\", total)"
   ]
  },
  {
   "cell_type": "code",
   "execution_count": 6,
   "metadata": {},
   "outputs": [
    {
     "name": "stdout",
     "output_type": "stream",
     "text": [
      "Enter an integer value:1234\n",
      "Sum of digits is 10\n"
     ]
    }
   ],
   "source": [
    "n=input(\"Enter an integer value:\")\n",
    "total=0\n",
    "for i in n:\n",
    "    total+=int(i)\n",
    "print(\"Sum of digits is\", total)"
   ]
  },
  {
   "cell_type": "code",
   "execution_count": null,
   "metadata": {},
   "outputs": [],
   "source": []
  },
  {
   "cell_type": "code",
   "execution_count": null,
   "metadata": {},
   "outputs": [],
   "source": []
  }
 ],
 "metadata": {
  "kernelspec": {
   "display_name": "Python 3",
   "language": "python",
   "name": "python3"
  },
  "language_info": {
   "codemirror_mode": {
    "name": "ipython",
    "version": 3
   },
   "file_extension": ".py",
   "mimetype": "text/x-python",
   "name": "python",
   "nbconvert_exporter": "python",
   "pygments_lexer": "ipython3",
   "version": "3.7.3"
  }
 },
 "nbformat": 4,
 "nbformat_minor": 2
}
